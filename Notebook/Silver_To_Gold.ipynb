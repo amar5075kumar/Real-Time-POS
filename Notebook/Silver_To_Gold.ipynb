{
 "cells": [
  {
   "cell_type": "markdown",
   "metadata": {
    "application/vnd.databricks.v1+cell": {
     "cellMetadata": {},
     "inputWidgets": {},
     "nuid": "c31951f4-cdc2-4e3f-b0e6-598fbbb6d3c0",
     "showTitle": false,
     "tableResultSettingsMap": {},
     "title": ""
    }
   },
   "source": [
    "### Calculate the gold table from the silver table \n",
    "##### Use Latest Inventory Snapshot with the Inventory Change to calculate the Current Inventory \n",
    "\n"
   ]
  },
  {
   "cell_type": "code",
   "execution_count": 0,
   "metadata": {
    "application/vnd.databricks.v1+cell": {
     "cellMetadata": {
      "byteLimit": 2048000,
      "rowLimit": 10000
     },
     "inputWidgets": {},
     "nuid": "81c82aa6-efa2-4418-913f-7fede66762b4",
     "showTitle": true,
     "tableResultSettingsMap": {},
     "title": "Importing Library"
    }
   },
   "outputs": [],
   "source": [
    "import dlt as dlt\n",
    "from pyspark.sql.functions import *\n"
   ]
  },
  {
   "cell_type": "code",
   "execution_count": 0,
   "metadata": {
    "application/vnd.databricks.v1+cell": {
     "cellMetadata": {
      "byteLimit": 2048000,
      "rowLimit": 10000
     },
     "inputWidgets": {},
     "nuid": "7ea6bb0b-a3aa-46e3-a042-63a9cbeb20a0",
     "showTitle": true,
     "tableResultSettingsMap": {},
     "title": "Current Inventory"
    }
   },
   "outputs": [],
   "source": [
    "@dlt.table(\n",
    "  name='current_inventory',\n",
    "  comment='current inventory count for a product in a store location',\n",
    "  table_properties={'quality':'gold'},\n",
    "  spark_conf={'pipelines.trigger.interval': '5 minutes'}\n",
    "  )\n",
    "def current_inventory():\n",
    "\n",
    "    # calculate inventory change with bopis corrections\n",
    "    inventory_change_df = (\n",
    "        dlt\n",
    "        .read('inventory_change').alias('x')\n",
    "        .join(\n",
    "            dlt.read('Store').alias('y'), \n",
    "            on='store_id'\n",
    "            )\n",
    "        .join(\n",
    "            dlt.read('inventory_change_type').alias('z'), \n",
    "            on='change_type_id'\n",
    "            )\n",
    "        .filter(expr(\"NOT(y.name='online' AND z.change_type='bopis')\"))\n",
    "        .select('store_id','item_id','date_time','quantity')\n",
    "        )\n",
    "\n",
    "    # calculate current inventory\n",
    "    inventory_current_df = (\n",
    "        dlt\n",
    "            .read('latestinventorysnapshot').alias('a')\n",
    "            .join(\n",
    "            inventory_change_df.alias('b'), \n",
    "            on=expr('''\n",
    "                a.store_id=b.store_id AND \n",
    "                a.item_id=b.item_id AND \n",
    "                a.date_time<=b.date_time\n",
    "                '''), \n",
    "            how='leftouter'\n",
    "            )\n",
    "            .groupBy('a.store_id','a.item_id')\n",
    "            .agg(\n",
    "                first('a.quantity').alias('snapshot_quantity'),\n",
    "                sum('b.quantity').alias('change_quantity'),\n",
    "                first('a.date_time').alias('snapshot_datetime'),\n",
    "                max('b.date_time').alias('change_datetime')\n",
    "                )\n",
    "            .withColumn('change_quantity', coalesce('change_quantity', lit(0)))\n",
    "            .withColumn('current_quantity', expr('snapshot_quantity + change_quantity'))\n",
    "            .withColumn('date_time',expr('GREATEST(snapshot_datetime, change_datetime)'))\n",
    "            .drop('snapshot_datetime','change_datetime')\n",
    "            .orderBy('current_quantity')\n",
    "            )\n",
    "\n",
    "    return inventory_current_df"
   ]
  },
  {
   "cell_type": "code",
   "execution_count": 0,
   "metadata": {
    "application/vnd.databricks.v1+cell": {
     "cellMetadata": {},
     "inputWidgets": {},
     "nuid": "4c8e8381-9c57-41d2-94f8-dbb7ac1b4f47",
     "showTitle": false,
     "tableResultSettingsMap": {},
     "title": ""
    }
   },
   "outputs": [],
   "source": []
  }
 ],
 "metadata": {
  "application/vnd.databricks.v1+notebook": {
   "computePreferences": null,
   "dashboards": [],
   "environmentMetadata": {
    "base_environment": "",
    "environment_version": "2"
   },
   "inputWidgetPreferences": null,
   "language": "python",
   "notebookMetadata": {
    "pythonIndentUnit": 4
   },
   "notebookName": "Silver_To_Gold",
   "widgets": {}
  },
  "language_info": {
   "name": "python"
  }
 },
 "nbformat": 4,
 "nbformat_minor": 0
}
